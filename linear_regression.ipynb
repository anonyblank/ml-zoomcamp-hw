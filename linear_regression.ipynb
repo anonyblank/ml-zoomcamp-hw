{
  "nbformat": 4,
  "nbformat_minor": 0,
  "metadata": {
    "colab": {
      "provenance": [],
      "authorship_tag": "ABX9TyMGr7cp82H1I/AaJA2u9QlC",
      "include_colab_link": true
    },
    "kernelspec": {
      "name": "python3",
      "display_name": "Python 3"
    },
    "language_info": {
      "name": "python"
    }
  },
  "cells": [
    {
      "cell_type": "markdown",
      "metadata": {
        "id": "view-in-github",
        "colab_type": "text"
      },
      "source": [
        "<a href=\"https://colab.research.google.com/github/anonyblank/ml-zoomcamp-hw/blob/main/linear_regression.ipynb\" target=\"_parent\"><img src=\"https://colab.research.google.com/assets/colab-badge.svg\" alt=\"Open In Colab\"/></a>"
      ]
    },
    {
      "cell_type": "code",
      "execution_count": 1,
      "metadata": {
        "colab": {
          "base_uri": "https://localhost:8080/"
        },
        "id": "r5qeUq0npPZT",
        "outputId": "5a69b7ca-f0df-40b7-e04f-a5b62298fb3d"
      },
      "outputs": [
        {
          "output_type": "stream",
          "name": "stdout",
          "text": [
            "--2023-09-23 13:06:09--  https://raw.githubusercontent.com/alexeygrigorev/datasets/master/housing.csv\n",
            "Resolving raw.githubusercontent.com (raw.githubusercontent.com)... 185.199.109.133, 185.199.110.133, 185.199.108.133, ...\n",
            "Connecting to raw.githubusercontent.com (raw.githubusercontent.com)|185.199.109.133|:443... connected.\n",
            "HTTP request sent, awaiting response... 200 OK\n",
            "Length: 1423529 (1.4M) [text/plain]\n",
            "Saving to: ‘housing.csv’\n",
            "\n",
            "\rhousing.csv           0%[                    ]       0  --.-KB/s               \rhousing.csv         100%[===================>]   1.36M  --.-KB/s    in 0.01s   \n",
            "\n",
            "2023-09-23 13:06:09 (116 MB/s) - ‘housing.csv’ saved [1423529/1423529]\n",
            "\n"
          ]
        }
      ],
      "source": [
        "!wget \"https://raw.githubusercontent.com/alexeygrigorev/datasets/master/housing.csv\""
      ]
    },
    {
      "cell_type": "code",
      "source": [
        "import numpy as np\n",
        "import pandas as pd\n",
        "import matplotlib.pyplot as plt\n",
        "import seaborn as sns\n",
        "%matplotlib inline"
      ],
      "metadata": {
        "id": "m0oewKvypgQ7"
      },
      "execution_count": 2,
      "outputs": []
    },
    {
      "cell_type": "code",
      "source": [
        "data = pd.read_csv('housing.csv')"
      ],
      "metadata": {
        "id": "pGCqoNPcqefW"
      },
      "execution_count": 3,
      "outputs": []
    },
    {
      "cell_type": "code",
      "source": [
        "sns.histplot(data.median_house_value.values, bins=50)"
      ],
      "metadata": {
        "colab": {
          "base_uri": "https://localhost:8080/",
          "height": 447
        },
        "id": "GoaX3_1pqz-f",
        "outputId": "1caa89f1-170e-4b37-d3a3-6a299afd4f97"
      },
      "execution_count": 4,
      "outputs": [
        {
          "output_type": "execute_result",
          "data": {
            "text/plain": [
              "<Axes: ylabel='Count'>"
            ]
          },
          "metadata": {},
          "execution_count": 4
        },
        {
          "output_type": "display_data",
          "data": {
            "text/plain": [
              "<Figure size 640x480 with 1 Axes>"
            ],
            "image/png": "[encoded data removed]"
          },
          "metadata": {}
        }
      ]
    },
    {
      "cell_type": "code",
      "source": [
        "filtered = data[data.ocean_proximity.isin(['<1H OCEAN', 'INLAND'])]\n",
        "selected_columns = [\n",
        "    'latitude',\n",
        "    'longitude',\n",
        "    'housing_median_age',\n",
        "    'total_rooms',\n",
        "    'total_bedrooms',\n",
        "    'population',\n",
        "    'households',\n",
        "    'median_income',\n",
        "    'median_house_value'\n",
        "]\n",
        "\n",
        "filtered_data = filtered[selected_columns]"
      ],
      "metadata": {
        "id": "r8m1SCmDVmYU"
      },
      "execution_count": 5,
      "outputs": []
    },
    {
      "cell_type": "markdown",
      "source": [
        "# There's one feature with missing values. What is it?"
      ],
      "metadata": {
        "id": "8lslRvBwe7Xc"
      }
    },
    {
      "cell_type": "code",
      "source": [
        "filtered_data.isnull().sum()"
      ],
      "metadata": {
        "colab": {
          "base_uri": "https://localhost:8080/"
        },
        "id": "jV2j_cq3e5TE",
        "outputId": "192f4536-2323-487b-a625-0ea102a8a803"
      },
      "execution_count": 6,
      "outputs": [
        {
          "output_type": "execute_result",
          "data": {
            "text/plain": [
              "latitude                0\n",
              "longitude               0\n",
              "housing_median_age      0\n",
              "total_rooms             0\n",
              "total_bedrooms        157\n",
              "population              0\n",
              "households              0\n",
              "median_income           0\n",
              "median_house_value      0\n",
              "dtype: int64"
            ]
          },
          "metadata": {},
          "execution_count": 6
        }
      ]
    },
    {
      "cell_type": "markdown",
      "source": [
        "# What's the median (50% percentile) for variable 'population'?"
      ],
      "metadata": {
        "id": "H8FZyMgIwbUo"
      }
    },
    {
      "cell_type": "code",
      "source": [
        "filtered_data.population.median()"
      ],
      "metadata": {
        "colab": {
          "base_uri": "https://localhost:8080/"
        },
        "id": "16Hl-If3fIcD",
        "outputId": "aad6fdcc-423f-4d2d-9caf-6fb71da204b9"
      },
      "execution_count": 7,
      "outputs": [
        {
          "output_type": "execute_result",
          "data": {
            "text/plain": [
              "1195.0"
            ]
          },
          "metadata": {},
          "execution_count": 7
        }
      ]
    },
    {
      "cell_type": "code",
      "source": [
        "filtered_data = filtered_data.reset_index(drop=True)\n",
        "index_in_filtered_data = np.arange(filtered_data.index.shape[0])"
      ],
      "metadata": {
        "id": "JkNCdAhj2aqe"
      },
      "execution_count": 8,
      "outputs": []
    },
    {
      "cell_type": "code",
      "source": [
        "np.random.seed(seed=42)\n",
        "np.random.shuffle(index_in_filtered_data)"
      ],
      "metadata": {
        "id": "-C6_cydfwVAC"
      },
      "execution_count": 9,
      "outputs": []
    },
    {
      "cell_type": "code",
      "source": [
        "num_of_data_in_dataset = len(filtered_data)\n",
        "\n",
        "num_of_validation_data = int(0.2 * num_of_data_in_dataset)\n",
        "num_of_test_data = int(0.2 * num_of_data_in_dataset)\n",
        "num_of_train_data = num_of_data_in_dataset - num_of_validation_data - num_of_test_data"
      ],
      "metadata": {
        "id": "htofsi5Jzo-V"
      },
      "execution_count": 10,
      "outputs": []
    },
    {
      "cell_type": "code",
      "source": [
        "index_in_filtered_data"
      ],
      "metadata": {
        "colab": {
          "base_uri": "https://localhost:8080/"
        },
        "id": "Ehu60y-l8iep",
        "outputId": "06bf62bc-6a18-4901-d112-6bd90c08dc84"
      },
      "execution_count": 11,
      "outputs": [
        {
          "output_type": "execute_result",
          "data": {
            "text/plain": [
              "array([15183,  4469,  9316, ...,  5390,   860,  7270])"
            ]
          },
          "metadata": {},
          "execution_count": 11
        }
      ]
    },
    {
      "cell_type": "code",
      "source": [
        "split_data_to_train = filtered_data.iloc[index_in_filtered_data[:num_of_train_data]] # 0 - 9413\n",
        "split_data_to_validate = filtered_data.iloc[index_in_filtered_data[num_of_train_data:num_of_train_data + num_of_validation_data]] # 9413 -\n",
        "split_data_to_test = filtered_data.iloc[index_in_filtered_data[num_of_train_data + num_of_validation_data:]]\n"
      ],
      "metadata": {
        "id": "LeWy5ikV5Boz"
      },
      "execution_count": 12,
      "outputs": []
    },
    {
      "cell_type": "code",
      "source": [
        "labels_for_train = np.log1p(split_data_to_train.median_house_value.values)\n",
        "labels_for_validation = np.log1p(split_data_to_validate.median_house_value.values)\n",
        "labels_for_test = np.log1p(split_data_to_test.median_house_value.values)"
      ],
      "metadata": {
        "id": "DItgkUtQ8unH"
      },
      "execution_count": 13,
      "outputs": []
    },
    {
      "cell_type": "code",
      "source": [
        "del split_data_to_train['median_house_value']\n",
        "del split_data_to_validate['median_house_value']\n",
        "del split_data_to_test['median_house_value']"
      ],
      "metadata": {
        "id": "nw2JTWyUImkG"
      },
      "execution_count": 14,
      "outputs": []
    },
    {
      "cell_type": "code",
      "source": [
        "def prepare_features(data):\n",
        "  return data.values\n",
        "\n",
        "\n",
        "\n",
        "def train_linear_regression(features, labels):\n",
        "  X = features.copy()\n",
        "  num_of_examples_in_features = X.shape[0]\n",
        "\n",
        "  ones = np.ones(num_of_examples_in_features)\n",
        "  X = np.column_stack([ones, X])\n",
        "\n",
        "  XT = X.T\n",
        "  XTX = XT.dot(X)\n",
        "  XTX_inv = np.linalg.inv(XTX)\n",
        "\n",
        "  W_Full = XTX_inv @ XT @ labels\n",
        "\n",
        "  return W_Full\n",
        "\n",
        "\n",
        "def rmse(predict_labels, labels):\n",
        "  m = labels.shape[0]\n",
        "  error = predict_labels - labels\n",
        "\n",
        "  square_error = error.dot(error)\n",
        "  mean_square_error = square_error / m\n",
        "  return np.sqrt(mean_square_error)\n"
      ],
      "metadata": {
        "id": "Us6i8JBNZbBC"
      },
      "execution_count": 15,
      "outputs": []
    },
    {
      "cell_type": "code",
      "source": [
        "# Fill 0\n",
        "\n",
        "fill_0_data_for_train = split_data_to_train.fillna(0)\n",
        "fill_0_data_for_validate = split_data_to_validate.fillna(0)\n",
        "\n",
        "\n",
        "features_to_train = prepare_features(fill_0_data_for_train)\n",
        "w_full = train_linear_regression(features_to_train, labels_for_train)\n",
        "w0, W = w_full[0], w_full[1:]\n",
        "\n",
        "features_to_validate = prepare_features(fill_0_data_for_validate)\n",
        "pred_labels_for_validation = w0 + features_to_validate.dot(W)\n",
        "score = rmse(pred_labels_for_validation, labels_for_validation)\n",
        "round(score, 2)"
      ],
      "metadata": {
        "colab": {
          "base_uri": "https://localhost:8080/"
        },
        "id": "bMCXUE4JI3Ct",
        "outputId": "f4f333c1-0420-440a-ca56-1e2489dd309c"
      },
      "execution_count": 16,
      "outputs": [
        {
          "output_type": "execute_result",
          "data": {
            "text/plain": [
              "0.34"
            ]
          },
          "metadata": {},
          "execution_count": 16
        }
      ]
    },
    {
      "cell_type": "code",
      "source": [
        "# Fill mean\n",
        "\n",
        "fill_mean_data_for_train = split_data_to_train.fillna(split_data_to_train.total_bedrooms.mean())\n",
        "fill_mean_data_for_validate = split_data_to_validate.fillna(split_data_to_train.total_bedrooms.mean())\n",
        "\n",
        "\n",
        "features_to_train = prepare_features(fill_mean_data_for_train)\n",
        "w_full = train_linear_regression(features_to_train, labels_for_train)\n",
        "w0, W = w_full[0], w_full[1:]\n",
        "\n",
        "\n",
        "features_to_validate = prepare_features(fill_mean_data_for_validate)\n",
        "pred_labels_for_validation = w0 + features_to_validate.dot(W)\n",
        "score = rmse(pred_labels_for_validation, labels_for_validation)\n",
        "round(score, 2)"
      ],
      "metadata": {
        "colab": {
          "base_uri": "https://localhost:8080/"
        },
        "id": "4Um1mTSUZJxy",
        "outputId": "a15c040d-93ff-4abd-c94f-dbd39915639e"
      },
      "execution_count": 17,
      "outputs": [
        {
          "output_type": "execute_result",
          "data": {
            "text/plain": [
              "0.34"
            ]
          },
          "metadata": {},
          "execution_count": 17
        }
      ]
    },
    {
      "cell_type": "code",
      "source": [
        "def train_linear_regression_regularized(features, labels, r=0.01):\n",
        "  X = features.copy()\n",
        "  num_of_examples_in_features = X.shape[0]\n",
        "\n",
        "  ones = np.ones(num_of_examples_in_features)\n",
        "  X = np.column_stack([ones, X])\n",
        "\n",
        "  XT = X.T\n",
        "  XTX = XT.dot(X)\n",
        "\n",
        "  XTX = XTX + r * np.eye(XTX.shape[0])\n",
        "\n",
        "  XTX_inv = np.linalg.inv(XTX)\n",
        "\n",
        "  W_Full = XTX_inv @ XT @ labels\n",
        "\n",
        "  return W_Full\n",
        "\n"
      ],
      "metadata": {
        "id": "Z77ctAi5mmHA"
      },
      "execution_count": 18,
      "outputs": []
    },
    {
      "cell_type": "code",
      "source": [
        "r_list = [0, 0.000001, 0.0001, 0.001, 0.01, 0.1, 1, 5, 10]\n",
        "\n",
        "fill_0_data_for_train = split_data_to_train.fillna(0)\n",
        "fill_0_data_for_validate = split_data_to_validate.fillna(0)\n",
        "\n",
        "features_to_train = prepare_features(fill_0_data_for_train)\n",
        "features_to_validate = prepare_features(fill_0_data_for_validate)\n",
        "best_score = float('inf')\n",
        "best_r = None\n",
        "for r in r_list:\n",
        "  w_full = train_linear_regression_regularized(features_to_train, labels_for_train, r=r)\n",
        "  w0 , W = w_full[0], w_full[1:]\n",
        "\n",
        "  pred_labels_for_validation = w0 + features_to_validate.dot(W)\n",
        "  score = rmse(pred_labels_for_validation, labels_for_validation)\n",
        "  print(r,\" - \", score)\n",
        "  if(score < best_score):\n",
        "    best_score = score\n",
        "    best_r = r\n",
        "\n",
        "print(\"Best r \", best_r)\n",
        "print(\"Best score\", round(best_score, 2))\n",
        "\n",
        "\n"
      ],
      "metadata": {
        "colab": {
          "base_uri": "https://localhost:8080/"
        },
        "id": "HvrBhxcDbNcx",
        "outputId": "51a0b7aa-74dc-4d8a-a01d-81da6943ad49"
      },
      "execution_count": 19,
      "outputs": [
        {
          "output_type": "stream",
          "name": "stdout",
          "text": [
            "0  -  0.3408479034165885\n",
            "1e-06  -  0.3408479061792101\n",
            "0.0001  -  0.340848180054261\n",
            "0.001  -  0.3408506921851553\n",
            "0.01  -  0.340877930047517\n",
            "0.1  -  0.3412862041996248\n",
            "1  -  0.34489583276425\n",
            "5  -  0.34773980704788987\n",
            "10  -  0.34831498335209776\n",
            "Best r  0\n",
            "Best score 0.34\n"
          ]
        }
      ]
    },
    {
      "cell_type": "code",
      "source": [
        "seeds = [0, 1, 2, 3, 4, 5, 6, 7, 8, 9]\n",
        "rmse_scores = []\n",
        "\n",
        "\n",
        "for seed in seeds:\n",
        "  index_in_filtered_data = np.arange(filtered_data.shape[0])\n",
        "\n",
        "  np.random.seed(seed)\n",
        "  np.random.shuffle(index_in_filtered_data)\n",
        "\n",
        "  split_data_to_train = filtered_data.iloc[index_in_filtered_data[:num_of_train_data]]\n",
        "  split_data_to_validate = filtered_data.iloc[index_in_filtered_data[num_of_train_data:num_of_train_data + num_of_validation_data]]\n",
        "  split_data_to_test = filtered_data.iloc[index_in_filtered_data[num_of_train_data + num_of_validation_data:]]\n",
        "\n",
        "  labels_for_train = np.log1p(split_data_to_train.median_house_value.values)\n",
        "  labels_for_validation = np.log1p(split_data_to_validate.median_house_value.values)\n",
        "  labels_for_test = np.log1p(split_data_to_test.median_house_value.values)\n",
        "\n",
        "  del split_data_to_train['median_house_value']\n",
        "  del split_data_to_validate['median_house_value']\n",
        "  del split_data_to_test['median_house_value']\n",
        "\n",
        "  fill_0_data_for_train = split_data_to_train.fillna(0)\n",
        "  fill_0_data_for_validate = split_data_to_validate.fillna(0)\n",
        "  fill_0_data_for_test = split_data_to_test.fillna(0)\n",
        "\n",
        "  features_to_train = prepare_features(fill_0_data_for_train)\n",
        "  w_full = train_linear_regression(features_to_train, labels_for_train)\n",
        "  w0, W = w_full[0], w_full[1:]\n",
        "\n",
        "  features_to_validate = prepare_features(fill_0_data_for_validate)\n",
        "  pred_labels_for_validation = w0 + features_to_validate.dot(W)\n",
        "  score = rmse(pred_labels_for_validation, labels_for_validation)\n",
        "  rmse_scores.append(score)\n",
        "\n",
        "\n",
        "std = np.std(rmse_scores)\n",
        "print(\"Standard Deviation: \", std)\n",
        "print(\"Round Number: \", round(std, 3))\n",
        "\n"
      ],
      "metadata": {
        "colab": {
          "base_uri": "https://localhost:8080/"
        },
        "id": "Afp1YheQsK_z",
        "outputId": "78e53c7b-cdd0-45e4-95c0-294e10f2ce70"
      },
      "execution_count": 20,
      "outputs": [
        {
          "output_type": "stream",
          "name": "stdout",
          "text": [
            "Standard Deviation:  0.00546571818101094\n",
            "Round Number:  0.005\n"
          ]
        }
      ]
    },
    {
      "cell_type": "code",
      "source": [
        "index_in_filtered_data = np.arange(filtered_data.shape[0])\n",
        "\n",
        "np.random.seed(9)\n",
        "np.random.shuffle(index_in_filtered_data)\n",
        "\n",
        "split_data_to_train = filtered_data.iloc[index_in_filtered_data[:num_of_train_data]]\n",
        "split_data_to_validate = filtered_data.iloc[index_in_filtered_data[num_of_train_data:num_of_train_data + num_of_validation_data]]\n",
        "split_data_to_test = filtered_data.iloc[index_in_filtered_data[num_of_train_data + num_of_validation_data:]]\n",
        "\n",
        "\n",
        "com_train_data = pd.concat([split_data_to_train, split_data_to_validate]).reset_index(drop=True).fillna(0)\n",
        "split_data_to_test = split_data_to_test.fillna(0)\n",
        "\n",
        "labels_for_com_train = np.log1p(com_train_data.median_house_value.values)\n",
        "labels_for_test = np.log1p(split_data_to_test.median_house_value.values)\n",
        "\n",
        "del com_train_data['median_house_value']\n",
        "del split_data_to_test['median_house_value']\n",
        "\n",
        "features_to_train = prepare_features(com_train_data)\n",
        "w_full = train_linear_regression_regularized(features_to_train, labels_for_com_train, r=0.001)\n",
        "w0 , W = w_full[0], w_full[1:]\n",
        "\n",
        "features_to_test = prepare_features(split_data_to_test)\n",
        "pred_labels_for_test = w0 + features_to_test.dot(W)\n",
        "\n",
        "rmse(pred_labels_for_test, labels_for_test)\n"
      ],
      "metadata": {
        "id": "BZi9PQPC21gq",
        "colab": {
          "base_uri": "https://localhost:8080/"
        },
        "outputId": "948d8f81-8a43-4019-b229-97ac571754ee"
      },
      "execution_count": 21,
      "outputs": [
        {
          "output_type": "execute_result",
          "data": {
            "text/plain": [
              "0.3349899336614748"
            ]
          },
          "metadata": {},
          "execution_count": 21
        }
      ]
    }
  ]
}