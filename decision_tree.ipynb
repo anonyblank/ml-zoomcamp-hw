{
  "nbformat": 4,
  "nbformat_minor": 0,
  "metadata": {
    "colab": {
      "provenance": [],
      "authorship_tag": "ABX9TyMzFhRDTwzB6UQu5iTmFHfU",
      "include_colab_link": true
    },
    "kernelspec": {
      "name": "python3",
      "display_name": "Python 3"
    },
    "language_info": {
      "name": "python"
    }
  },
  "cells": [
    {
      "cell_type": "markdown",
      "metadata": {
        "id": "view-in-github",
        "colab_type": "text"
      },
      "source": [
        "<a href=\"https://colab.research.google.com/github/anonyblank/ml-zoomcamp-hw/blob/main/decision_tree.ipynb\" target=\"_parent\"><img src=\"https://colab.research.google.com/assets/colab-badge.svg\" alt=\"Open In Colab\"/></a>"
      ]
    },
    {
      "cell_type": "code",
      "execution_count": 118,
      "metadata": {
        "id": "xmO1UCLmOwrA"
      },
      "outputs": [],
      "source": [
        "import numpy as np\n",
        "import pandas as pd\n",
        "import matplotlib.pyplot as plt"
      ]
    },
    {
      "cell_type": "code",
      "source": [
        "!wget \"https://raw.githubusercontent.com/alexeygrigorev/datasets/master/housing.csv\""
      ],
      "metadata": {
        "colab": {
          "base_uri": "https://localhost:8080/"
        },
        "id": "UWIKqF85RncC",
        "outputId": "790ec2ac-9442-4847-af18-a09a8b287c0e"
      },
      "execution_count": 119,
      "outputs": [
        {
          "output_type": "stream",
          "name": "stdout",
          "text": [
            "--2023-10-23 17:51:54--  https://raw.githubusercontent.com/alexeygrigorev/datasets/master/housing.csv\n",
            "Resolving raw.githubusercontent.com (raw.githubusercontent.com)... 185.199.108.133, 185.199.109.133, 185.199.110.133, ...\n",
            "Connecting to raw.githubusercontent.com (raw.githubusercontent.com)|185.199.108.133|:443... connected.\n",
            "HTTP request sent, awaiting response... 200 OK\n",
            "Length: 1423529 (1.4M) [text/plain]\n",
            "Saving to: ‘housing.csv.4’\n",
            "\n",
            "\rhousing.csv.4         0%[                    ]       0  --.-KB/s               \rhousing.csv.4       100%[===================>]   1.36M  --.-KB/s    in 0.06s   \n",
            "\n",
            "2023-10-23 17:51:54 (21.0 MB/s) - ‘housing.csv.4’ saved [1423529/1423529]\n",
            "\n"
          ]
        }
      ]
    },
    {
      "cell_type": "code",
      "source": [
        "raw_data = pd.read_csv(\"housing.csv\")"
      ],
      "metadata": {
        "id": "v-3kHjC7VkbX"
      },
      "execution_count": 120,
      "outputs": []
    },
    {
      "cell_type": "code",
      "source": [
        "datasets = raw_data[raw_data['ocean_proximity'].isin(['<1H OCEAN', 'INLAND'])]"
      ],
      "metadata": {
        "id": "F__DHaQiVw1W"
      },
      "execution_count": 121,
      "outputs": []
    },
    {
      "cell_type": "code",
      "source": [
        "datasets.fillna(0, inplace=True)"
      ],
      "metadata": {
        "colab": {
          "base_uri": "https://localhost:8080/"
        },
        "id": "4BCEZHpyWWAf",
        "outputId": "723569d9-5567-4613-80a2-409ecd569371"
      },
      "execution_count": 122,
      "outputs": [
        {
          "output_type": "stream",
          "name": "stderr",
          "text": [
            "<ipython-input-122-3722423aa50a>:1: SettingWithCopyWarning: \n",
            "A value is trying to be set on a copy of a slice from a DataFrame\n",
            "\n",
            "See the caveats in the documentation: https://pandas.pydata.org/pandas-docs/stable/user_guide/indexing.html#returning-a-view-versus-a-copy\n",
            "  datasets.fillna(0, inplace=True)\n"
          ]
        }
      ]
    },
    {
      "cell_type": "code",
      "source": [
        "datasets[\"log_median_house_values\"] = np.log1p(datasets.median_house_value.values)"
      ],
      "metadata": {
        "colab": {
          "base_uri": "https://localhost:8080/"
        },
        "id": "qpH0By9LWvkq",
        "outputId": "c84ff26d-17f0-485b-b6e4-b2a251776203"
      },
      "execution_count": 123,
      "outputs": [
        {
          "output_type": "stream",
          "name": "stderr",
          "text": [
            "<ipython-input-123-e640c7091dff>:1: SettingWithCopyWarning: \n",
            "A value is trying to be set on a copy of a slice from a DataFrame.\n",
            "Try using .loc[row_indexer,col_indexer] = value instead\n",
            "\n",
            "See the caveats in the documentation: https://pandas.pydata.org/pandas-docs/stable/user_guide/indexing.html#returning-a-view-versus-a-copy\n",
            "  datasets[\"log_median_house_values\"] = np.log1p(datasets.median_house_value.values)\n"
          ]
        }
      ]
    },
    {
      "cell_type": "code",
      "source": [
        "datasets.shape"
      ],
      "metadata": {
        "colab": {
          "base_uri": "https://localhost:8080/"
        },
        "id": "E_XnilWcXX3Z",
        "outputId": "6db70ac2-ec29-4662-f221-5e29cc221875"
      },
      "execution_count": 124,
      "outputs": [
        {
          "output_type": "execute_result",
          "data": {
            "text/plain": [
              "(15687, 11)"
            ]
          },
          "metadata": {},
          "execution_count": 124
        }
      ]
    },
    {
      "cell_type": "code",
      "source": [
        "from sklearn.model_selection import train_test_split"
      ],
      "metadata": {
        "id": "mRDHw6a1XkYi"
      },
      "execution_count": 125,
      "outputs": []
    },
    {
      "cell_type": "code",
      "source": [
        "full_train_datasets, test_datasets = train_test_split(datasets, test_size=0.2, random_state=1)\n",
        "train_datasets, val_datasets = train_test_split(full_train_datasets, test_size=0.25, random_state=1)"
      ],
      "metadata": {
        "id": "C7p9L10zXuoE"
      },
      "execution_count": 126,
      "outputs": []
    },
    {
      "cell_type": "code",
      "source": [
        "full_train_labels = full_train_datasets.log_median_house_values\n",
        "train_labels = train_datasets.log_median_house_values\n",
        "val_labels = val_datasets.log_median_house_values\n",
        "test_labels = test_datasets.log_median_house_values"
      ],
      "metadata": {
        "id": "hMuCRld6YPmJ"
      },
      "execution_count": 127,
      "outputs": []
    },
    {
      "cell_type": "code",
      "source": [
        "full_train_labels.shape"
      ],
      "metadata": {
        "colab": {
          "base_uri": "https://localhost:8080/"
        },
        "id": "i7M7kRPKZHDl",
        "outputId": "01ec5093-5713-4f43-f6d1-af9388e6fdfd"
      },
      "execution_count": 128,
      "outputs": [
        {
          "output_type": "execute_result",
          "data": {
            "text/plain": [
              "(12549,)"
            ]
          },
          "metadata": {},
          "execution_count": 128
        }
      ]
    },
    {
      "cell_type": "code",
      "source": [
        "full_train_datasets"
      ],
      "metadata": {
        "colab": {
          "base_uri": "https://localhost:8080/",
          "height": 444
        },
        "id": "7dolMdsTZ_cI",
        "outputId": "ec804bcf-6661-4a71-b210-95e4ad1275b5"
      },
      "execution_count": 129,
      "outputs": [
        {
          "output_type": "execute_result",
          "data": {
            "text/plain": [
              "       longitude  latitude  housing_median_age  total_rooms  total_bedrooms  \\\n",
              "13673    -117.25     34.04                18.0       5761.0          1063.0   \n",
              "6611     -118.11     34.18                52.0       3571.0           510.0   \n",
              "2649     -124.10     40.50                42.0       2380.0           553.0   \n",
              "6789     -118.16     34.09                52.0       1722.0           448.0   \n",
              "3826     -118.45     34.20                18.0       2729.0           800.0   \n",
              "...          ...       ...                 ...          ...             ...   \n",
              "2206     -119.88     36.83                 2.0       4055.0           735.0   \n",
              "6652     -118.14     34.15                17.0       1896.0           674.0   \n",
              "15152    -117.05     33.01                17.0       3430.0           425.0   \n",
              "1127     -121.60     39.76                22.0       2447.0           556.0   \n",
              "17741    -121.74     37.30                12.0       1961.0           280.0   \n",
              "\n",
              "       population  households  median_income  median_house_value  \\\n",
              "13673      2763.0      1058.0         4.4472            161100.0   \n",
              "6611       1434.0       490.0         5.9009            376000.0   \n",
              "2649       1300.0       504.0         1.7574             57500.0   \n",
              "6789       1122.0       425.0         3.1204            224000.0   \n",
              "3826       2099.0       742.0         2.5842            230800.0   \n",
              "...           ...         ...            ...                 ...   \n",
              "2206       1730.0       654.0         4.2132             96500.0   \n",
              "6652        971.0       652.0         0.8438            175000.0   \n",
              "15152      1468.0       433.0        10.6186            429300.0   \n",
              "1127       1157.0       556.0         1.8245             85500.0   \n",
              "17741       985.0       269.0         6.7159            362700.0   \n",
              "\n",
              "      ocean_proximity  log_median_house_values  \n",
              "13673          INLAND                11.989787  \n",
              "6611           INLAND                12.837347  \n",
              "2649        <1H OCEAN                10.959558  \n",
              "6789        <1H OCEAN                12.319406  \n",
              "3826        <1H OCEAN                12.349311  \n",
              "...               ...                      ...  \n",
              "2206           INLAND                11.477309  \n",
              "6652        <1H OCEAN                12.072547  \n",
              "15152       <1H OCEAN                12.969914  \n",
              "1127           INLAND                11.356283  \n",
              "17741       <1H OCEAN                12.801334  \n",
              "\n",
              "[12549 rows x 11 columns]"
            ],
            "text/html": [
              "\n",
              "  <div id=\"df-0ebce3f0-1b2d-4f90-b480-5bdcfb43fa9e\" class=\"colab-df-container\">\n",
              "    <div>\n",
              "<style scoped>\n",
              "    .dataframe tbody tr th:only-of-type {\n",
              "        vertical-align: middle;\n",
              "    }\n",
              "\n",
              "    .dataframe tbody tr th {\n",
              "        vertical-align: top;\n",
              "    }\n",
              "\n",
              "    .dataframe thead th {\n",
              "        text-align: right;\n",
              "    }\n",
              "</style>\n",
              "<table border=\"1\" class=\"dataframe\">\n",
              "  <thead>\n",
              "    <tr style=\"text-align: right;\">\n",
              "      <th></th>\n",
              "      <th>longitude</th>\n",
              "      <th>latitude</th>\n",
              "      <th>housing_median_age</th>\n",
              "      <th>total_rooms</th>\n",
              "      <th>total_bedrooms</th>\n",
              "      <th>population</th>\n",
              "      <th>households</th>\n",
              "      <th>median_income</th>\n",
              "      <th>median_house_value</th>\n",
              "      <th>ocean_proximity</th>\n",
              "      <th>log_median_house_values</th>\n",
              "    </tr>\n",
              "  </thead>\n",
              "  <tbody>\n",
              "    <tr>\n",
              "      <th>13673</th>\n",
              "      <td>-117.25</td>\n",
              "      <td>34.04</td>\n",
              "      <td>18.0</td>\n",
              "      <td>5761.0</td>\n",
              "      <td>1063.0</td>\n",
              "      <td>2763.0</td>\n",
              "      <td>1058.0</td>\n",
              "      <td>4.4472</td>\n",
              "      <td>161100.0</td>\n",
              "      <td>INLAND</td>\n",
              "      <td>11.989787</td>\n",
              "    </tr>\n",
              "    <tr>\n",
              "      <th>6611</th>\n",
              "      <td>-118.11</td>\n",
              "      <td>34.18</td>\n",
              "      <td>52.0</td>\n",
              "      <td>3571.0</td>\n",
              "      <td>510.0</td>\n",
              "      <td>1434.0</td>\n",
              "      <td>490.0</td>\n",
              "      <td>5.9009</td>\n",
              "      <td>376000.0</td>\n",
              "      <td>INLAND</td>\n",
              "      <td>12.837347</td>\n",
              "    </tr>\n",
              "    <tr>\n",
              "      <th>2649</th>\n",
              "      <td>-124.10</td>\n",
              "      <td>40.50</td>\n",
              "      <td>42.0</td>\n",
              "      <td>2380.0</td>\n",
              "      <td>553.0</td>\n",
              "      <td>1300.0</td>\n",
              "      <td>504.0</td>\n",
              "      <td>1.7574</td>\n",
              "      <td>57500.0</td>\n",
              "      <td>&lt;1H OCEAN</td>\n",
              "      <td>10.959558</td>\n",
              "    </tr>\n",
              "    <tr>\n",
              "      <th>6789</th>\n",
              "      <td>-118.16</td>\n",
              "      <td>34.09</td>\n",
              "      <td>52.0</td>\n",
              "      <td>1722.0</td>\n",
              "      <td>448.0</td>\n",
              "      <td>1122.0</td>\n",
              "      <td>425.0</td>\n",
              "      <td>3.1204</td>\n",
              "      <td>224000.0</td>\n",
              "      <td>&lt;1H OCEAN</td>\n",
              "      <td>12.319406</td>\n",
              "    </tr>\n",
              "    <tr>\n",
              "      <th>3826</th>\n",
              "      <td>-118.45</td>\n",
              "      <td>34.20</td>\n",
              "      <td>18.0</td>\n",
              "      <td>2729.0</td>\n",
              "      <td>800.0</td>\n",
              "      <td>2099.0</td>\n",
              "      <td>742.0</td>\n",
              "      <td>2.5842</td>\n",
              "      <td>230800.0</td>\n",
              "      <td>&lt;1H OCEAN</td>\n",
              "      <td>12.349311</td>\n",
              "    </tr>\n",
              "    <tr>\n",
              "      <th>...</th>\n",
              "      <td>...</td>\n",
              "      <td>...</td>\n",
              "      <td>...</td>\n",
              "      <td>...</td>\n",
              "      <td>...</td>\n",
              "      <td>...</td>\n",
              "      <td>...</td>\n",
              "      <td>...</td>\n",
              "      <td>...</td>\n",
              "      <td>...</td>\n",
              "      <td>...</td>\n",
              "    </tr>\n",
              "    <tr>\n",
              "      <th>2206</th>\n",
              "      <td>-119.88</td>\n",
              "      <td>36.83</td>\n",
              "      <td>2.0</td>\n",
              "      <td>4055.0</td>\n",
              "      <td>735.0</td>\n",
              "      <td>1730.0</td>\n",
              "      <td>654.0</td>\n",
              "      <td>4.2132</td>\n",
              "      <td>96500.0</td>\n",
              "      <td>INLAND</td>\n",
              "      <td>11.477309</td>\n",
              "    </tr>\n",
              "    <tr>\n",
              "      <th>6652</th>\n",
              "      <td>-118.14</td>\n",
              "      <td>34.15</td>\n",
              "      <td>17.0</td>\n",
              "      <td>1896.0</td>\n",
              "      <td>674.0</td>\n",
              "      <td>971.0</td>\n",
              "      <td>652.0</td>\n",
              "      <td>0.8438</td>\n",
              "      <td>175000.0</td>\n",
              "      <td>&lt;1H OCEAN</td>\n",
              "      <td>12.072547</td>\n",
              "    </tr>\n",
              "    <tr>\n",
              "      <th>15152</th>\n",
              "      <td>-117.05</td>\n",
              "      <td>33.01</td>\n",
              "      <td>17.0</td>\n",
              "      <td>3430.0</td>\n",
              "      <td>425.0</td>\n",
              "      <td>1468.0</td>\n",
              "      <td>433.0</td>\n",
              "      <td>10.6186</td>\n",
              "      <td>429300.0</td>\n",
              "      <td>&lt;1H OCEAN</td>\n",
              "      <td>12.969914</td>\n",
              "    </tr>\n",
              "    <tr>\n",
              "      <th>1127</th>\n",
              "      <td>-121.60</td>\n",
              "      <td>39.76</td>\n",
              "      <td>22.0</td>\n",
              "      <td>2447.0</td>\n",
              "      <td>556.0</td>\n",
              "      <td>1157.0</td>\n",
              "      <td>556.0</td>\n",
              "      <td>1.8245</td>\n",
              "      <td>85500.0</td>\n",
              "      <td>INLAND</td>\n",
              "      <td>11.356283</td>\n",
              "    </tr>\n",
              "    <tr>\n",
              "      <th>17741</th>\n",
              "      <td>-121.74</td>\n",
              "      <td>37.30</td>\n",
              "      <td>12.0</td>\n",
              "      <td>1961.0</td>\n",
              "      <td>280.0</td>\n",
              "      <td>985.0</td>\n",
              "      <td>269.0</td>\n",
              "      <td>6.7159</td>\n",
              "      <td>362700.0</td>\n",
              "      <td>&lt;1H OCEAN</td>\n",
              "      <td>12.801334</td>\n",
              "    </tr>\n",
              "  </tbody>\n",
              "</table>\n",
              "<p>12549 rows × 11 columns</p>\n",
              "</div>\n",
              "    <div class=\"colab-df-buttons\">\n",
              "\n",
              "  <div class=\"colab-df-container\">\n",
              "    <button class=\"colab-df-convert\" onclick=\"convertToInteractive('df-0ebce3f0-1b2d-4f90-b480-5bdcfb43fa9e')\"\n",
              "            title=\"Convert this dataframe to an interactive table.\"\n",
              "            style=\"display:none;\">\n",
              "\n",
              "  <svg xmlns=\"http://www.w3.org/2000/svg\" height=\"24px\" viewBox=\"0 -960 960 960\">\n",
              "    <path d=\"M120-120v-720h720v720H120Zm60-500h600v-160H180v160Zm220 220h160v-160H400v160Zm0 220h160v-160H400v160ZM180-400h160v-160H180v160Zm440 0h160v-160H620v160ZM180-180h160v-160H180v160Zm440 0h160v-160H620v160Z\"/>\n",
              "  </svg>\n",
              "    </button>\n",
              "\n",
              "  <style>\n",
              "    .colab-df-container {\n",
              "      display:flex;\n",
              "      gap: 12px;\n",
              "    }\n",
              "\n",
              "    .colab-df-convert {\n",
              "      background-color: #E8F0FE;\n",
              "      border: none;\n",
              "      border-radius: 50%;\n",
              "      cursor: pointer;\n",
              "      display: none;\n",
              "      fill: #1967D2;\n",
              "      height: 32px;\n",
              "      padding: 0 0 0 0;\n",
              "      width: 32px;\n",
              "    }\n",
              "\n",
              "    .colab-df-convert:hover {\n",
              "      background-color: #E2EBFA;\n",
              "      box-shadow: 0px 1px 2px rgba(60, 64, 67, 0.3), 0px 1px 3px 1px rgba(60, 64, 67, 0.15);\n",
              "      fill: #174EA6;\n",
              "    }\n",
              "\n",
              "    .colab-df-buttons div {\n",
              "      margin-bottom: 4px;\n",
              "    }\n",
              "\n",
              "    [theme=dark] .colab-df-convert {\n",
              "      background-color: #3B4455;\n",
              "      fill: #D2E3FC;\n",
              "    }\n",
              "\n",
              "    [theme=dark] .colab-df-convert:hover {\n",
              "      background-color: #434B5C;\n",
              "      box-shadow: 0px 1px 3px 1px rgba(0, 0, 0, 0.15);\n",
              "      filter: drop-shadow(0px 1px 2px rgba(0, 0, 0, 0.3));\n",
              "      fill: #FFFFFF;\n",
              "    }\n",
              "  </style>\n",
              "\n",
              "    <script>\n",
              "      const buttonEl =\n",
              "        document.querySelector('#df-0ebce3f0-1b2d-4f90-b480-5bdcfb43fa9e button.colab-df-convert');\n",
              "      buttonEl.style.display =\n",
              "        google.colab.kernel.accessAllowed ? 'block' : 'none';\n",
              "\n",
              "      async function convertToInteractive(key) {\n",
              "        const element = document.querySelector('#df-0ebce3f0-1b2d-4f90-b480-5bdcfb43fa9e');\n",
              "        const dataTable =\n",
              "          await google.colab.kernel.invokeFunction('convertToInteractive',\n",
              "                                                    [key], {});\n",
              "        if (!dataTable) return;\n",
              "\n",
              "        const docLinkHtml = 'Like what you see? Visit the ' +\n",
              "          '<a target=\"_blank\" href=https://colab.research.google.com/notebooks/data_table.ipynb>data table notebook</a>'\n",
              "          + ' to learn more about interactive tables.';\n",
              "        element.innerHTML = '';\n",
              "        dataTable['output_type'] = 'display_data';\n",
              "        await google.colab.output.renderOutput(dataTable, element);\n",
              "        const docLink = document.createElement('div');\n",
              "        docLink.innerHTML = docLinkHtml;\n",
              "        element.appendChild(docLink);\n",
              "      }\n",
              "    </script>\n",
              "  </div>\n",
              "\n",
              "\n",
              "<div id=\"df-167498ed-5faf-4f44-886c-b66b15a5345f\">\n",
              "  <button class=\"colab-df-quickchart\" onclick=\"quickchart('df-167498ed-5faf-4f44-886c-b66b15a5345f')\"\n",
              "            title=\"Suggest charts.\"\n",
              "            style=\"display:none;\">\n",
              "\n",
              "<svg xmlns=\"http://www.w3.org/2000/svg\" height=\"24px\"viewBox=\"0 0 24 24\"\n",
              "     width=\"24px\">\n",
              "    <g>\n",
              "        <path d=\"M19 3H5c-1.1 0-2 .9-2 2v14c0 1.1.9 2 2 2h14c1.1 0 2-.9 2-2V5c0-1.1-.9-2-2-2zM9 17H7v-7h2v7zm4 0h-2V7h2v10zm4 0h-2v-4h2v4z\"/>\n",
              "    </g>\n",
              "</svg>\n",
              "  </button>\n",
              "\n",
              "<style>\n",
              "  .colab-df-quickchart {\n",
              "      --bg-color: #E8F0FE;\n",
              "      --fill-color: #1967D2;\n",
              "      --hover-bg-color: #E2EBFA;\n",
              "      --hover-fill-color: #174EA6;\n",
              "      --disabled-fill-color: #AAA;\n",
              "      --disabled-bg-color: #DDD;\n",
              "  }\n",
              "\n",
              "  [theme=dark] .colab-df-quickchart {\n",
              "      --bg-color: #3B4455;\n",
              "      --fill-color: #D2E3FC;\n",
              "      --hover-bg-color: #434B5C;\n",
              "      --hover-fill-color: #FFFFFF;\n",
              "      --disabled-bg-color: #3B4455;\n",
              "      --disabled-fill-color: #666;\n",
              "  }\n",
              "\n",
              "  .colab-df-quickchart {\n",
              "    background-color: var(--bg-color);\n",
              "    border: none;\n",
              "    border-radius: 50%;\n",
              "    cursor: pointer;\n",
              "    display: none;\n",
              "    fill: var(--fill-color);\n",
              "    height: 32px;\n",
              "    padding: 0;\n",
              "    width: 32px;\n",
              "  }\n",
              "\n",
              "  .colab-df-quickchart:hover {\n",
              "    background-color: var(--hover-bg-color);\n",
              "    box-shadow: 0 1px 2px rgba(60, 64, 67, 0.3), 0 1px 3px 1px rgba(60, 64, 67, 0.15);\n",
              "    fill: var(--button-hover-fill-color);\n",
              "  }\n",
              "\n",
              "  .colab-df-quickchart-complete:disabled,\n",
              "  .colab-df-quickchart-complete:disabled:hover {\n",
              "    background-color: var(--disabled-bg-color);\n",
              "    fill: var(--disabled-fill-color);\n",
              "    box-shadow: none;\n",
              "  }\n",
              "\n",
              "  .colab-df-spinner {\n",
              "    border: 2px solid var(--fill-color);\n",
              "    border-color: transparent;\n",
              "    border-bottom-color: var(--fill-color);\n",
              "    animation:\n",
              "      spin 1s steps(1) infinite;\n",
              "  }\n",
              "\n",
              "  @keyframes spin {\n",
              "    0% {\n",
              "      border-color: transparent;\n",
              "      border-bottom-color: var(--fill-color);\n",
              "      border-left-color: var(--fill-color);\n",
              "    }\n",
              "    20% {\n",
              "      border-color: transparent;\n",
              "      border-left-color: var(--fill-color);\n",
              "      border-top-color: var(--fill-color);\n",
              "    }\n",
              "    30% {\n",
              "      border-color: transparent;\n",
              "      border-left-color: var(--fill-color);\n",
              "      border-top-color: var(--fill-color);\n",
              "      border-right-color: var(--fill-color);\n",
              "    }\n",
              "    40% {\n",
              "      border-color: transparent;\n",
              "      border-right-color: var(--fill-color);\n",
              "      border-top-color: var(--fill-color);\n",
              "    }\n",
              "    60% {\n",
              "      border-color: transparent;\n",
              "      border-right-color: var(--fill-color);\n",
              "    }\n",
              "    80% {\n",
              "      border-color: transparent;\n",
              "      border-right-color: var(--fill-color);\n",
              "      border-bottom-color: var(--fill-color);\n",
              "    }\n",
              "    90% {\n",
              "      border-color: transparent;\n",
              "      border-bottom-color: var(--fill-color);\n",
              "    }\n",
              "  }\n",
              "</style>\n",
              "\n",
              "  <script>\n",
              "    async function quickchart(key) {\n",
              "      const quickchartButtonEl =\n",
              "        document.querySelector('#' + key + ' button');\n",
              "      quickchartButtonEl.disabled = true;  // To prevent multiple clicks.\n",
              "      quickchartButtonEl.classList.add('colab-df-spinner');\n",
              "      try {\n",
              "        const charts = await google.colab.kernel.invokeFunction(\n",
              "            'suggestCharts', [key], {});\n",
              "      } catch (error) {\n",
              "        console.error('Error during call to suggestCharts:', error);\n",
              "      }\n",
              "      quickchartButtonEl.classList.remove('colab-df-spinner');\n",
              "      quickchartButtonEl.classList.add('colab-df-quickchart-complete');\n",
              "    }\n",
              "    (() => {\n",
              "      let quickchartButtonEl =\n",
              "        document.querySelector('#df-167498ed-5faf-4f44-886c-b66b15a5345f button');\n",
              "      quickchartButtonEl.style.display =\n",
              "        google.colab.kernel.accessAllowed ? 'block' : 'none';\n",
              "    })();\n",
              "  </script>\n",
              "</div>\n",
              "    </div>\n",
              "  </div>\n"
            ]
          },
          "metadata": {},
          "execution_count": 129
        }
      ]
    },
    {
      "cell_type": "code",
      "source": [
        "del full_train_datasets[\"log_median_house_values\"]\n",
        "del train_datasets[\"log_median_house_values\"]\n",
        "del val_datasets[\"log_median_house_values\"]\n",
        "del test_datasets[\"log_median_house_values\"]\n",
        "\n",
        "del full_train_datasets[\"median_house_value\"]\n",
        "del train_datasets[\"median_house_value\"]\n",
        "del val_datasets[\"median_house_value\"]\n",
        "del test_datasets[\"median_house_value\"]"
      ],
      "metadata": {
        "id": "ySrOAWaZZVTx"
      },
      "execution_count": 130,
      "outputs": []
    },
    {
      "cell_type": "code",
      "source": [
        "from sklearn.feature_extraction import DictVectorizer"
      ],
      "metadata": {
        "id": "hqOUx3DGZyjo"
      },
      "execution_count": 131,
      "outputs": []
    },
    {
      "cell_type": "code",
      "source": [
        "dv = DictVectorizer(sparse=False)"
      ],
      "metadata": {
        "id": "8KqAwjh8bLeq"
      },
      "execution_count": 132,
      "outputs": []
    },
    {
      "cell_type": "code",
      "source": [
        "train_dicts = train_datasets.to_dict(orient=\"records\")\n",
        "val_dicts = val_datasets.to_dict(orient=\"records\")\n",
        "train_features = dv.fit_transform(train_dicts)\n",
        "val_features = dv.transform(val_dicts)"
      ],
      "metadata": {
        "id": "CKMP3wPpbTU-"
      },
      "execution_count": 133,
      "outputs": []
    },
    {
      "cell_type": "code",
      "source": [
        "from sklearn.tree import DecisionTreeRegressor"
      ],
      "metadata": {
        "id": "xg0RD07ibopP"
      },
      "execution_count": 134,
      "outputs": []
    },
    {
      "cell_type": "code",
      "source": [
        "dtr = DecisionTreeRegressor(max_depth=1)\n",
        "dtr.fit(train_features, train_labels)"
      ],
      "metadata": {
        "colab": {
          "base_uri": "https://localhost:8080/",
          "height": 75
        },
        "id": "8O-5IrvQc4lk",
        "outputId": "c8497e11-da39-4b69-dc6c-e23db5f73285"
      },
      "execution_count": 135,
      "outputs": [
        {
          "output_type": "execute_result",
          "data": {
            "text/plain": [
              "DecisionTreeRegressor(max_depth=1)"
            ],
            "text/html": [
              "<style>#sk-container-id-4 {color: black;background-color: white;}#sk-container-id-4 pre{padding: 0;}#sk-container-id-4 div.sk-toggleable {background-color: white;}#sk-container-id-4 label.sk-toggleable__label {cursor: pointer;display: block;width: 100%;margin-bottom: 0;padding: 0.3em;box-sizing: border-box;text-align: center;}#sk-container-id-4 label.sk-toggleable__label-arrow:before {content: \"▸\";float: left;margin-right: 0.25em;color: #696969;}#sk-container-id-4 label.sk-toggleable__label-arrow:hover:before {color: black;}#sk-container-id-4 div.sk-estimator:hover label.sk-toggleable__label-arrow:before {color: black;}#sk-container-id-4 div.sk-toggleable__content {max-height: 0;max-width: 0;overflow: hidden;text-align: left;background-color: #f0f8ff;}#sk-container-id-4 div.sk-toggleable__content pre {margin: 0.2em;color: black;border-radius: 0.25em;background-color: #f0f8ff;}#sk-container-id-4 input.sk-toggleable__control:checked~div.sk-toggleable__content {max-height: 200px;max-width: 100%;overflow: auto;}#sk-container-id-4 input.sk-toggleable__control:checked~label.sk-toggleable__label-arrow:before {content: \"▾\";}#sk-container-id-4 div.sk-estimator input.sk-toggleable__control:checked~label.sk-toggleable__label {background-color: #d4ebff;}#sk-container-id-4 div.sk-label input.sk-toggleable__control:checked~label.sk-toggleable__label {background-color: #d4ebff;}#sk-container-id-4 input.sk-hidden--visually {border: 0;clip: rect(1px 1px 1px 1px);clip: rect(1px, 1px, 1px, 1px);height: 1px;margin: -1px;overflow: hidden;padding: 0;position: absolute;width: 1px;}#sk-container-id-4 div.sk-estimator {font-family: monospace;background-color: #f0f8ff;border: 1px dotted black;border-radius: 0.25em;box-sizing: border-box;margin-bottom: 0.5em;}#sk-container-id-4 div.sk-estimator:hover {background-color: #d4ebff;}#sk-container-id-4 div.sk-parallel-item::after {content: \"\";width: 100%;border-bottom: 1px solid gray;flex-grow: 1;}#sk-container-id-4 div.sk-label:hover label.sk-toggleable__label {background-color: #d4ebff;}#sk-container-id-4 div.sk-serial::before {content: \"\";position: absolute;border-left: 1px solid gray;box-sizing: border-box;top: 0;bottom: 0;left: 50%;z-index: 0;}#sk-container-id-4 div.sk-serial {display: flex;flex-direction: column;align-items: center;background-color: white;padding-right: 0.2em;padding-left: 0.2em;position: relative;}#sk-container-id-4 div.sk-item {position: relative;z-index: 1;}#sk-container-id-4 div.sk-parallel {display: flex;align-items: stretch;justify-content: center;background-color: white;position: relative;}#sk-container-id-4 div.sk-item::before, #sk-container-id-4 div.sk-parallel-item::before {content: \"\";position: absolute;border-left: 1px solid gray;box-sizing: border-box;top: 0;bottom: 0;left: 50%;z-index: -1;}#sk-container-id-4 div.sk-parallel-item {display: flex;flex-direction: column;z-index: 1;position: relative;background-color: white;}#sk-container-id-4 div.sk-parallel-item:first-child::after {align-self: flex-end;width: 50%;}#sk-container-id-4 div.sk-parallel-item:last-child::after {align-self: flex-start;width: 50%;}#sk-container-id-4 div.sk-parallel-item:only-child::after {width: 0;}#sk-container-id-4 div.sk-dashed-wrapped {border: 1px dashed gray;margin: 0 0.4em 0.5em 0.4em;box-sizing: border-box;padding-bottom: 0.4em;background-color: white;}#sk-container-id-4 div.sk-label label {font-family: monospace;font-weight: bold;display: inline-block;line-height: 1.2em;}#sk-container-id-4 div.sk-label-container {text-align: center;}#sk-container-id-4 div.sk-container {/* jupyter's `normalize.less` sets `[hidden] { display: none; }` but bootstrap.min.css set `[hidden] { display: none !important; }` so we also need the `!important` here to be able to override the default hidden behavior on the sphinx rendered scikit-learn.org. See: https://github.com/scikit-learn/scikit-learn/issues/21755 */display: inline-block !important;position: relative;}#sk-container-id-4 div.sk-text-repr-fallback {display: none;}</style><div id=\"sk-container-id-4\" class=\"sk-top-container\"><div class=\"sk-text-repr-fallback\"><pre>DecisionTreeRegressor(max_depth=1)</pre><b>In a Jupyter environment, please rerun this cell to show the HTML representation or trust the notebook. <br />On GitHub, the HTML representation is unable to render, please try loading this page with nbviewer.org.</b></div><div class=\"sk-container\" hidden><div class=\"sk-item\"><div class=\"sk-estimator sk-toggleable\"><input class=\"sk-toggleable__control sk-hidden--visually\" id=\"sk-estimator-id-4\" type=\"checkbox\" checked><label for=\"sk-estimator-id-4\" class=\"sk-toggleable__label sk-toggleable__label-arrow\">DecisionTreeRegressor</label><div class=\"sk-toggleable__content\"><pre>DecisionTreeRegressor(max_depth=1)</pre></div></div></div></div></div>"
            ]
          },
          "metadata": {},
          "execution_count": 135
        }
      ]
    },
    {
      "cell_type": "code",
      "source": [
        "from sklearn.tree import export_text\n",
        "tree_rules = export_text(dtr, feature_names=list(dv.get_feature_names_out()))\n",
        "print(tree_rules)"
      ],
      "metadata": {
        "colab": {
          "base_uri": "https://localhost:8080/"
        },
        "id": "O11emf6ldXNW",
        "outputId": "d5368896-ae5f-4c34-a844-352afd3c0ce3"
      },
      "execution_count": 136,
      "outputs": [
        {
          "output_type": "stream",
          "name": "stdout",
          "text": [
            "|--- ocean_proximity=<1H OCEAN <= 0.50\n",
            "|   |--- value: [11.61]\n",
            "|--- ocean_proximity=<1H OCEAN >  0.50\n",
            "|   |--- value: [12.30]\n",
            "\n"
          ]
        }
      ]
    },
    {
      "cell_type": "code",
      "source": [
        "from sklearn.ensemble import RandomForestRegressor\n",
        "from sklearn.metrics import mean_squared_error\n",
        "\n",
        "rfr = RandomForestRegressor(n_estimators=10, random_state=1, n_jobs=-1)\n",
        "rfr.fit(train_features, train_labels)\n",
        "\n",
        "val_pred_labels = rfr.predict(val_features)\n",
        "\n",
        "print(np.round(np.sqrt(mean_squared_error(val_labels, val_pred_labels)), 3))"
      ],
      "metadata": {
        "colab": {
          "base_uri": "https://localhost:8080/"
        },
        "id": "-BqElk7iefE2",
        "outputId": "3ba5af95-efff-42ac-a204-521da51d1753"
      },
      "execution_count": 137,
      "outputs": [
        {
          "output_type": "stream",
          "name": "stdout",
          "text": [
            "0.245\n"
          ]
        }
      ]
    },
    {
      "cell_type": "code",
      "source": [
        "rmse_scores = []\n",
        "best_rmse = float('inf')\n",
        "best_n_estimators = None\n",
        "\n",
        "for n_estimator in range(10, 201, 10):\n",
        "  rfr = RandomForestRegressor(n_estimators=n_estimator, random_state=1, n_jobs=-1)\n",
        "  rfr.fit(train_features, train_labels)\n",
        "\n",
        "  val_pred_labels = rfr.predict(val_features)\n",
        "  rmse = np.round(np.sqrt(mean_squared_error(val_labels, val_pred_labels)), 3)\n",
        "  rmse_scores.append((n_estimator, rmse))\n",
        "\n",
        "  if rmse < best_rmse:\n",
        "    best_rmse = rmse\n",
        "    best_n_estimators = n_estimator\n",
        "  else:\n",
        "    break  # RMSE has stopped improving, so break the loop\n",
        "print(f\"The RMSE stopped improving after {best_n_estimators} estimators.\")\n",
        "\n",
        "  # print(, 3))"
      ],
      "metadata": {
        "colab": {
          "base_uri": "https://localhost:8080/"
        },
        "id": "cvdXB_gjhYEI",
        "outputId": "d29194c8-c8ba-451c-9d76-91131b407d3e"
      },
      "execution_count": 138,
      "outputs": [
        {
          "output_type": "stream",
          "name": "stdout",
          "text": [
            "The RMSE stopped improving after 50 estimators.\n"
          ]
        }
      ]
    },
    {
      "cell_type": "code",
      "source": [
        "best_rmse"
      ],
      "metadata": {
        "colab": {
          "base_uri": "https://localhost:8080/"
        },
        "id": "dK9N4KAmmJ0W",
        "outputId": "15bfe749-7480-48d1-ca61-8887ef315d50"
      },
      "execution_count": 139,
      "outputs": [
        {
          "output_type": "execute_result",
          "data": {
            "text/plain": [
              "0.234"
            ]
          },
          "metadata": {},
          "execution_count": 139
        }
      ]
    },
    {
      "cell_type": "code",
      "source": [
        "rmse_datasets = pd.DataFrame(rmse_scores, columns=[\"n_estimator\", \"rmse\"])"
      ],
      "metadata": {
        "id": "STPhnNy9jA97"
      },
      "execution_count": 140,
      "outputs": []
    },
    {
      "cell_type": "code",
      "source": [
        "import matplotlib.pyplot as plt\n",
        "plt.plot(rmse_datasets.n_estimator, rmse_datasets.rmse)"
      ],
      "metadata": {
        "colab": {
          "base_uri": "https://localhost:8080/",
          "height": 447
        },
        "id": "gOJxbhoKjwig",
        "outputId": "b4c0dbb3-dbea-4b30-ee49-60cbb9df5e17"
      },
      "execution_count": 141,
      "outputs": [
        {
          "output_type": "execute_result",
          "data": {
            "text/plain": [
              "[<matplotlib.lines.Line2D at 0x7c8d12f3e320>]"
            ]
          },
          "metadata": {},
          "execution_count": 141
        },
        {
          "output_type": "display_data",
          "data": {
            "text/plain": [
              "<Figure size 640x480 with 1 Axes>"
            ],
            "image/png": "[encoded data removed]"
          },
          "metadata": {}
        }
      ]
    },
    {
      "cell_type": "code",
      "source": [
        "max_depth_values = [10, 15, 20, 25]\n",
        "n_estimators = range(10, 201, 10)\n",
        "\n",
        "best_mean_rmse = float('inf')\n",
        "best_max_depth = None\n",
        "\n",
        "mean_rmse_scores = []\n",
        "\n",
        "for max_depth in max_depth_values:\n",
        "  mean_rmse = 0\n",
        "  for n_estimator in n_estimators:\n",
        "    rfr = RandomForestRegressor(n_estimators=n_estimator, max_depth=max_depth, random_state=1, n_jobs=-1)\n",
        "    rfr.fit(train_features, train_labels)\n",
        "\n",
        "    val_pred_labels = rfr.predict(val_features)\n",
        "    rmse = np.round(np.sqrt(mean_squared_error(val_labels, val_pred_labels)), 3)\n",
        "    mean_rmse += rmse\n",
        "\n",
        "  mean_rmse = mean_rmse / len(n_estimators)\n",
        "  mean_rmse_scores.append((max_depth, mean_rmse))\n",
        "\n",
        "  if mean_rmse < best_mean_rmse:\n",
        "    best_mean_rmse = mean_rmse\n",
        "    best_max_depth = max_depth\n",
        "\n",
        "print(f\"The best max_depth is {best_max_depth} with a mean RMSE of {best_mean_rmse:.3f}\")"
      ],
      "metadata": {
        "colab": {
          "base_uri": "https://localhost:8080/"
        },
        "id": "xf7cnxZUmovz",
        "outputId": "bf79aaf3-a6a8-4ad7-db67-483b29793d42"
      },
      "execution_count": 142,
      "outputs": [
        {
          "output_type": "stream",
          "name": "stdout",
          "text": [
            "The best max_depth is 25 with a mean RMSE of 0.235\n"
          ]
        }
      ]
    },
    {
      "cell_type": "code",
      "source": [
        "mean_rmse_datasets = pd.DataFrame(mean_rmse_scores, columns=[\"max_depth\", \"mean_rmse\"])\n",
        "plt.plot(mean_rmse_datasets.max_depth, mean_rmse_datasets.mean_rmse)"
      ],
      "metadata": {
        "colab": {
          "base_uri": "https://localhost:8080/",
          "height": 447
        },
        "id": "kulT0SX2pyFc",
        "outputId": "9f75efc3-28a0-4c63-e9e3-4716a3f0cd97"
      },
      "execution_count": 144,
      "outputs": [
        {
          "output_type": "execute_result",
          "data": {
            "text/plain": [
              "[<matplotlib.lines.Line2D at 0x7c8d128ebaf0>]"
            ]
          },
          "metadata": {},
          "execution_count": 144
        },
        {
          "output_type": "display_data",
          "data": {
            "text/plain": [
              "<Figure size 640x480 with 1 Axes>"
            ],
            "image/png": "[encoded data removed]"
          },
          "metadata": {}
        }
      ]
    },
    {
      "cell_type": "code",
      "source": [
        "rfr = RandomForestRegressor(n_estimators=10, max_depth=20, random_state=1, n_jobs=-1)\n",
        "\n",
        "rfr.fit(train_features, train_labels)\n",
        "\n",
        "feature_importance = rfr.feature_importances_\n",
        "feature_importance_dict = dict(zip(dv.get_feature_names_out(), feature_importance))\n",
        "# feature_importance_dict\n",
        "most_important_feature = max(feature_importance_dict, key=feature_importance_dict.get)\n",
        "print(f\"The most important feature is: {most_important_feature}\")\n"
      ],
      "metadata": {
        "colab": {
          "base_uri": "https://localhost:8080/"
        },
        "id": "5sYvomhXs5Cg",
        "outputId": "e9feda15-4572-42a7-ead3-ae29134a2148"
      },
      "execution_count": 148,
      "outputs": [
        {
          "output_type": "stream",
          "name": "stdout",
          "text": [
            "The most important feature is: median_income\n"
          ]
        }
      ]
    },
    {
      "cell_type": "code",
      "source": [
        "import xgboost as xgb\n",
        "\n",
        "dtrain = xgb.DMatrix(train_features, label=train_labels)\n",
        "dval = xgb.DMatrix(val_features, label=val_labels)\n",
        "\n",
        "# Create a watchlist\n",
        "watchlist = [(dtrain, 'train'), (dval, 'val')]\n",
        "\n",
        "# Train an XGBoost model with eta=0.3\n",
        "xgb_params_03 = {\n",
        "    'eta': 0.3,\n",
        "    'max_depth': 6,\n",
        "    'min_child_weight': 1,\n",
        "    'objective': 'reg:squarederror',\n",
        "    'nthread': 8,\n",
        "    'seed': 1,\n",
        "    'verbosity': 1,\n",
        "    'num_boost_round': 100  # 100 rounds\n",
        "}\n",
        "\n",
        "model_03 = xgb.train(xgb_params_03, dtrain, num_boost_round=xgb_params_03['num_boost_round'], evals=watchlist, early_stopping_rounds=10, verbose_eval=False)\n",
        "\n",
        "# Calculate RMSE for eta=0.3\n",
        "y_val_pred_03 = model_03.predict(dval)\n",
        "rmse_03 = np.sqrt(mean_squared_error(val_labels, y_val_pred_03))\n",
        "\n",
        "# Train an XGBoost model with eta=0.1\n",
        "xgb_params_01 = {\n",
        "    'eta': 0.1,\n",
        "    'max_depth': 6,\n",
        "    'min_child_weight': 1,\n",
        "    'objective': 'reg:squarederror',\n",
        "    'nthread': 8,\n",
        "    'seed': 1,\n",
        "    'verbosity': 1,\n",
        "    'num_boost_round': 100  # 100 rounds\n",
        "}\n",
        "\n",
        "model_01 = xgb.train(xgb_params_01, dtrain, num_boost_round=xgb_params_01['num_boost_round'], evals=watchlist, early_stopping_rounds=10, verbose_eval=False)\n",
        "\n",
        "# Calculate RMSE for eta=0.1\n",
        "y_val_pred_01 = model_01.predict(dval)\n",
        "rmse_01 = np.sqrt(mean_squared_error(val_labels, y_val_pred_01))\n",
        "\n",
        "print(f\"RMSE for eta=0.3: {rmse_03:.4f}\")\n",
        "print(f\"RMSE for eta=0.1: {rmse_01:.4f}\")\n",
        "\n",
        "if rmse_03 < rmse_01:\n",
        "    print(\"eta=0.3 leads to the best RMSE score on the validation dataset.\")\n",
        "elif rmse_01 < rmse_03:\n",
        "    print(\"eta=0.1 leads to the best RMSE score on the validation dataset.\")\n",
        "else:\n",
        "    print(\"Both eta values give equal RMSE values.\")"
      ],
      "metadata": {
        "colab": {
          "base_uri": "https://localhost:8080/"
        },
        "id": "YZ0ohP69t4Aa",
        "outputId": "25db81f6-2e11-4575-e474-7e1c2849392f"
      },
      "execution_count": 154,
      "outputs": [
        {
          "output_type": "stream",
          "name": "stderr",
          "text": [
            "/usr/local/lib/python3.10/dist-packages/xgboost/core.py:160: UserWarning: [18:15:07] WARNING: /workspace/src/learner.cc:742: \n",
            "Parameters: { \"num_boost_round\" } are not used.\n",
            "\n",
            "  warnings.warn(smsg, UserWarning)\n",
            "/usr/local/lib/python3.10/dist-packages/xgboost/core.py:160: UserWarning: [18:15:08] WARNING: /workspace/src/learner.cc:742: \n",
            "Parameters: { \"num_boost_round\" } are not used.\n",
            "\n",
            "  warnings.warn(smsg, UserWarning)\n"
          ]
        },
        {
          "output_type": "stream",
          "name": "stdout",
          "text": [
            "RMSE for eta=0.3: 0.2319\n",
            "RMSE for eta=0.1: 0.2321\n",
            "eta=0.3 leads to the best RMSE score on the validation dataset.\n"
          ]
        }
      ]
    }
  ]
}