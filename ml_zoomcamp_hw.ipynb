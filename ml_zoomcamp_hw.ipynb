{
  "nbformat": 4,
  "nbformat_minor": 0,
  "metadata": {
    "colab": {
      "provenance": []
    },
    "kernelspec": {
      "name": "python3",
      "display_name": "Python 3"
    },
    "language_info": {
      "name": "python"
    }
  },
  "cells": [
    {
      "cell_type": "code",
      "execution_count": 289,
      "metadata": {
        "id": "D6iCd-dCV00j"
      },
      "outputs": [],
      "source": [
        "import numpy as np\n",
        "import pandas as pd\n"
      ]
    },
    {
      "cell_type": "code",
      "source": [
        "pd.__version__"
      ],
      "metadata": {
        "colab": {
          "base_uri": "https://localhost:8080/",
          "height": 35
        },
        "id": "IuepaPodWD2E",
        "outputId": "b4805485-98a4-431c-aca2-fa8a155688c9"
      },
      "execution_count": 290,
      "outputs": [
        {
          "output_type": "execute_result",
          "data": {
            "text/plain": [
              "'1.5.3'"
            ],
            "application/vnd.google.colaboratory.intrinsic+json": {
              "type": "string"
            }
          },
          "metadata": {},
          "execution_count": 290
        }
      ]
    },
    {
      "cell_type": "code",
      "source": [
        "df = pd.read_csv(\"housing.csv\")"
      ],
      "metadata": {
        "id": "7-UCP8mfWHSk"
      },
      "execution_count": 291,
      "outputs": []
    },
    {
      "cell_type": "code",
      "source": [
        "number_of_columns = df.shape[1] or len(df.columns)"
      ],
      "metadata": {
        "id": "1cIGQRhjYTeu"
      },
      "execution_count": 292,
      "outputs": []
    },
    {
      "cell_type": "code",
      "source": [
        "missing_values_column = df.isnull().sum()"
      ],
      "metadata": {
        "id": "RFSqv8K3ZRkB"
      },
      "execution_count": 293,
      "outputs": []
    },
    {
      "cell_type": "code",
      "source": [
        "unique_values_in_ocean_proximity = df.ocean_proximity.nunique()"
      ],
      "metadata": {
        "id": "5UPQM4WXa21m"
      },
      "execution_count": 294,
      "outputs": []
    },
    {
      "cell_type": "code",
      "source": [
        "average_value_of_the_median_house_value = df[df.ocean_proximity == \"NEAR BAY\"].median_house_value.mean()"
      ],
      "metadata": {
        "id": "Nsamrr_xclU5"
      },
      "execution_count": 295,
      "outputs": []
    },
    {
      "cell_type": "code",
      "source": [
        "original_total_bedrooms = df.total_bedrooms.mean()\n",
        "df.total_bedrooms =  df.total_bedrooms.fillna(df.total_bedrooms.mean())\n",
        "new_total_bedrooms = df.total_bedrooms.mean()"
      ],
      "metadata": {
        "id": "mcO_bqzsiDwD"
      },
      "execution_count": 296,
      "outputs": []
    },
    {
      "cell_type": "code",
      "source": [
        "options_on_islands = df[df.ocean_proximity == \"ISLAND\"]"
      ],
      "metadata": {
        "id": "CfVBqy19j2Ay"
      },
      "execution_count": 297,
      "outputs": []
    },
    {
      "cell_type": "code",
      "source": [
        "\n",
        "selected_columns = ['housing_median_age', 'total_rooms', 'total_bedrooms']\n",
        "X = options_on_islands[selected_columns].to_numpy()"
      ],
      "metadata": {
        "id": "WFH4sD37kmhu"
      },
      "execution_count": 298,
      "outputs": []
    },
    {
      "cell_type": "code",
      "source": [
        "XT = X.T\n"
      ],
      "metadata": {
        "id": "bcQvOfK2vcGA"
      },
      "execution_count": 299,
      "outputs": []
    },
    {
      "cell_type": "code",
      "source": [
        "def vector_vector_multiplication(x,y):\n",
        "  assert x.shape[0] == y.shape[0]\n",
        "\n",
        "  n = x.shape[0]\n",
        "\n",
        "  result = 0.0\n",
        "  for i in range(n):\n",
        "    result = result + x[i] * y[i]\n",
        "\n",
        "  return result"
      ],
      "metadata": {
        "id": "f3yp_IJW4CDv"
      },
      "execution_count": 300,
      "outputs": []
    },
    {
      "cell_type": "code",
      "source": [
        "def matrix_vector_multiplication(x,y):\n",
        "  assert x.shape[1] == y.shape[0]\n",
        "\n",
        "  n = x.shape[0]\n",
        "  num_of_rows = x.shape[0]\n",
        "\n",
        "  result = np.zeros(num_of_rows)\n",
        "\n",
        "  for i in range(n):\n",
        "\n",
        "    result[i] = vector_vector_multiplication(x[i], y)\n",
        "  return result"
      ],
      "metadata": {
        "id": "3TeCOpQl_vaU"
      },
      "execution_count": 301,
      "outputs": []
    },
    {
      "cell_type": "code",
      "source": [
        "def matrix_matirx_multiplication(x,y):\n",
        "  assert x.shape[1] == y.shape[0]\n",
        "\n",
        "  n = y.shape[1]\n",
        "\n",
        "  num_of_rows = x.shape[0]\n",
        "  num_of_cols = y.shape[1]\n",
        "\n",
        "  result = np.zeros((num_of_rows, num_of_cols))\n",
        "\n",
        "  for i in range(n):\n",
        "    yi = y[:, i]\n",
        "    xyi = matrix_vector_multiplication(x, yi)\n",
        "    result[:, i] = xyi\n",
        "\n",
        "  return result"
      ],
      "metadata": {
        "id": "9auucZlXHjHf"
      },
      "execution_count": 302,
      "outputs": []
    },
    {
      "cell_type": "code",
      "source": [
        "XTX = matrix_matirx_multiplication(XT , X)"
      ],
      "metadata": {
        "id": "m91h4yofLwMD"
      },
      "execution_count": 303,
      "outputs": []
    },
    {
      "cell_type": "code",
      "source": [
        "XTX"
      ],
      "metadata": {
        "colab": {
          "base_uri": "https://localhost:8080/"
        },
        "id": "cQOAkNVEPZZY",
        "outputId": "4593e637-7b98-4605-ecab-2d6acf66383a"
      },
      "execution_count": 304,
      "outputs": [
        {
          "output_type": "execute_result",
          "data": {
            "text/plain": [
              "array([[9.6820000e+03, 3.5105300e+05, 9.1357000e+04],\n",
              "       [3.5105300e+05, 1.4399307e+07, 3.7720360e+06],\n",
              "       [9.1357000e+04, 3.7720360e+06, 9.9835800e+05]])"
            ]
          },
          "metadata": {},
          "execution_count": 304
        }
      ]
    },
    {
      "cell_type": "code",
      "source": [
        "XTX_inv = np.linalg.inv(XTX)"
      ],
      "metadata": {
        "id": "MbMbK-ARNpA6"
      },
      "execution_count": 305,
      "outputs": []
    },
    {
      "cell_type": "code",
      "source": [
        "y = np.array([950, 1300, 800, 1000, 1300])"
      ],
      "metadata": {
        "id": "CWH9VysTOP5C"
      },
      "execution_count": 306,
      "outputs": []
    },
    {
      "cell_type": "code",
      "source": [
        "w = XTX_inv @ X.T @ y\n"
      ],
      "metadata": {
        "id": "Xr_pFypLOgPn"
      },
      "execution_count": 307,
      "outputs": []
    },
    {
      "cell_type": "code",
      "source": [
        "w"
      ],
      "metadata": {
        "colab": {
          "base_uri": "https://localhost:8080/"
        },
        "id": "w4G-NqMcQPB7",
        "outputId": "a3445877-1a9f-4e24-8150-161f42c66030"
      },
      "execution_count": 308,
      "outputs": [
        {
          "output_type": "execute_result",
          "data": {
            "text/plain": [
              "array([23.12330961, -1.48124183,  5.69922946])"
            ]
          },
          "metadata": {},
          "execution_count": 308
        }
      ]
    },
    {
      "cell_type": "code",
      "source": [],
      "metadata": {
        "id": "QX3lNkayZO9i"
      },
      "execution_count": null,
      "outputs": []
    }
  ]
}